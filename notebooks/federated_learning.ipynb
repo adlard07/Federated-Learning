{
  "cells": [
    {
      "cell_type": "markdown",
      "metadata": {
        "id": "pxAphMHj-eo3"
      },
      "source": [
        "### Importing Libraries"
      ]
    },
    {
      "cell_type": "code",
      "execution_count": 1,
      "metadata": {
        "_cell_guid": "79c7e3d0-c299-4dcb-8224-4455121ee9b0",
        "_uuid": "d629ff2d2480ee46fbb7e2d37f6b5fab8052498a",
        "id": "gftyPo3E-eo8",
        "trusted": true
      },
      "outputs": [],
      "source": [
        "import os\n",
        "import cv2\n",
        "import numpy as np\n",
        "import torch\n",
        "import zipfile\n",
        "from torchvision.transforms import transforms\n",
        "import tensorflow as tf\n",
        "from torch.utils.data import random_split, DataLoader, TensorDataset\n",
        "import matplotlib.pyplot as plt\n",
        "\n",
        "%matplotlib inline\n",
        "plt.rcParams['figure.figsize'] = [5, 5]"
      ]
    },
    {
      "cell_type": "code",
      "execution_count": 2,
      "metadata": {
        "id": "00RznQ-y_Gm-"
      },
      "outputs": [],
      "source": [
        "with zipfile.ZipFile(\"al_data.zip\", \"r\") as zip_file:\n",
        "  zip_file. extractall('')"
      ]
    },
    {
      "cell_type": "markdown",
      "metadata": {
        "id": "R23X4du4-eo-"
      },
      "source": [
        "### Load Dataset"
      ]
    },
    {
      "cell_type": "code",
      "execution_count": 3,
      "metadata": {
        "id": "100Lyt37-eo_"
      },
      "outputs": [],
      "source": [
        "train_path = 'al_data/train'\n",
        "test_path = 'al_data/test'"
      ]
    },
    {
      "cell_type": "code",
      "execution_count": 4,
      "metadata": {
        "id": "ZOIzi6a_-eo_"
      },
      "outputs": [],
      "source": [
        "def read_data(data_path):\n",
        "    dataset = []\n",
        "    labels = []\n",
        "    DIRPATH = list(os.listdir(data_path))\n",
        "    for i in range(len(DIRPATH)):\n",
        "        for img in os.listdir(os.path.join(data_path, DIRPATH[i])):\n",
        "            image = cv2.imread(os.path.join(data_path, DIRPATH[i], img))//255\n",
        "            labels.append(i)\n",
        "            dataset.append(image)\n",
        "    return dataset, labels"
      ]
    },
    {
      "cell_type": "code",
      "execution_count": 5,
      "metadata": {
        "id": "Qakaqxhb-epA"
      },
      "outputs": [],
      "source": [
        "def create_data(data, lables):\n",
        "    # dataset = []\n",
        "    # for i in range(len(data)):\n",
        "    #     dataset.append([data[i], labels[i]])\n",
        "    dataset = torch.cat((data, lables.unsqueeze(1)), dim=1)\n",
        "    return dataset"
      ]
    },
    {
      "cell_type": "code",
      "execution_count": 6,
      "metadata": {
        "colab": {
          "base_uri": "https://localhost:8080/"
        },
        "id": "s58d-xYn-epB",
        "outputId": "69fab22b-0326-476f-81ee-a5696953a046"
      },
      "outputs": [
        {
          "data": {
            "text/plain": [
              "(5121, 1279)"
            ]
          },
          "execution_count": 6,
          "metadata": {},
          "output_type": "execute_result"
        }
      ],
      "source": [
        "tr_data, tr_lables = read_data(train_path)\n",
        "te_data, te_lables = read_data(test_path)\n",
        "len(tr_data), len(te_data)"
      ]
    },
    {
      "cell_type": "code",
      "execution_count": 7,
      "metadata": {
        "id": "uVXQq2jQ71of"
      },
      "outputs": [],
      "source": [
        "train_array = np.array(tr_data, dtype=np.float32)\n",
        "train_dataset = torch.tensor(train_array)"
      ]
    },
    {
      "cell_type": "code",
      "execution_count": 8,
      "metadata": {
        "id": "9sPnjnXmMKAc"
      },
      "outputs": [],
      "source": [
        "train_lables = torch.tensor(tr_lables)"
      ]
    },
    {
      "cell_type": "code",
      "execution_count": 9,
      "metadata": {
        "id": "c_nF7qHA7IU_"
      },
      "outputs": [],
      "source": [
        "test_array = np.array(te_data, dtype=np.float32)\n",
        "test_dataset = torch.from_numpy(test_array)"
      ]
    },
    {
      "cell_type": "code",
      "execution_count": 12,
      "metadata": {
        "id": "-CnTkf7qMgOC"
      },
      "outputs": [],
      "source": [
        "test_lables = torch.tensor(te_lables)"
      ]
    },
    {
      "cell_type": "code",
      "execution_count": 13,
      "metadata": {
        "colab": {
          "base_uri": "https://localhost:8080/"
        },
        "id": "sOGqzpCLakpK",
        "outputId": "9139b527-42f7-4749-c6c8-6692f6d6d95f"
      },
      "outputs": [
        {
          "data": {
            "text/plain": [
              "(torch.Tensor, torch.Tensor, torch.Tensor, torch.Tensor)"
            ]
          },
          "execution_count": 13,
          "metadata": {},
          "output_type": "execute_result"
        }
      ],
      "source": [
        "type(train_dataset), type(train_lables), type(test_dataset), type(test_lables)"
      ]
    },
    {
      "cell_type": "code",
      "execution_count": 13,
      "metadata": {
        "colab": {
          "base_uri": "https://localhost:8080/"
        },
        "id": "RWBvLY_GbVPM",
        "outputId": "382bce69-246e-4ef7-d449-dec04993b7c6"
      },
      "outputs": [
        {
          "data": {
            "text/plain": [
              "tensor([0, 0, 0, 0, 0])"
            ]
          },
          "execution_count": 13,
          "metadata": {},
          "output_type": "execute_result"
        }
      ],
      "source": [
        "train_lables[:5]"
      ]
    },
    {
      "cell_type": "code",
      "execution_count": 14,
      "metadata": {
        "id": "aYa9YoxBnPbm"
      },
      "outputs": [],
      "source": [
        "training_datasets = TensorDataset(train_dataset, train_lables)\n",
        "testing_datasets = TensorDataset(test_dataset, test_lables)"
      ]
    },
    {
      "cell_type": "code",
      "execution_count": 15,
      "metadata": {
        "id": "d_otNnQcpJw7"
      },
      "outputs": [],
      "source": [
        "train_dataset, dev_dataset = training_datasets[int(len(training_datasets)*0.8):], training_datasets[:int(len(training_datasets)*0.8):]"
      ]
    },
    {
      "cell_type": "code",
      "execution_count": 17,
      "metadata": {
        "colab": {
          "base_uri": "https://localhost:8080/"
        },
        "id": "X67VW91utV7D",
        "outputId": "e7a08d34-cb24-4fd5-f1bb-f46b7e485acf"
      },
      "outputs": [
        {
          "name": "stdout",
          "output_type": "stream",
          "text": [
            "1025\n"
          ]
        }
      ],
      "source": [
        "print(len(train_dataset[1]))"
      ]
    },
    {
      "cell_type": "code",
      "execution_count": null,
      "metadata": {
        "id": "PJOuhWcX4IBf"
      },
      "outputs": [],
      "source": [
        "print(len(train_datasets[0]), len(test_datasets[0]))"
      ]
    },
    {
      "cell_type": "code",
      "execution_count": null,
      "metadata": {
        "id": "vWGqdMMJ7kbk"
      },
      "outputs": [],
      "source": [
        "dev_len = len(train)//15\n",
        "dev_dataset = train[:dev_len]\n",
        "len(train), len(dev_dataset)"
      ]
    },
    {
      "cell_type": "code",
      "execution_count": null,
      "metadata": {
        "id": "YhYZ2jbW-epD"
      },
      "outputs": [],
      "source": [
        "print(len(train[1]), len(test[1]))"
      ]
    },
    {
      "cell_type": "markdown",
      "metadata": {
        "id": "TDj_h6sP-epE"
      },
      "source": [
        "### Define Notebook Constants"
      ]
    },
    {
      "cell_type": "code",
      "execution_count": null,
      "metadata": {
        "id": "yOsipaCz-epE",
        "trusted": true
      },
      "outputs": [],
      "source": [
        "total_train_size = len(train)\n",
        "total_test_size = len(test)\n",
        "total_dev_size = len(dev_dataset)\n",
        "\n",
        "classes = 10\n",
        "input_dim = 784\n",
        "\n",
        "num_clients = 4\n",
        "rounds = 10\n",
        "batch_size = 128\n",
        "epochs_per_client = 3\n",
        "learning_rate = 2e-2"
      ]
    },
    {
      "cell_type": "code",
      "execution_count": null,
      "metadata": {
        "id": "_HqPMQZS-epE",
        "trusted": true
      },
      "outputs": [],
      "source": [
        "total_train_size, total_dev_size, total_test_size"
      ]
    },
    {
      "cell_type": "markdown",
      "metadata": {
        "id": "JLqupGCw-epE"
      },
      "source": [
        "### Define utilities for GPU support"
      ]
    },
    {
      "cell_type": "code",
      "execution_count": null,
      "metadata": {
        "id": "rcNhLZd7-epE",
        "trusted": true
      },
      "outputs": [],
      "source": [
        "def get_device():\n",
        "    return torch.device('cuda') if torch.cuda.is_available() else torch.device('cpu')\n",
        "\n",
        "def to_device(data, device):\n",
        "    if isinstance(data, (list, tuple)):\n",
        "        return [to_device(x, device) for x in data]\n",
        "    return data.to(device, non_blocking=True)\n",
        "\n",
        "class DeviceDataLoader(DataLoader):\n",
        "        def __init__(self, dl, device):\n",
        "            self.dl = dl\n",
        "            self.device = device\n",
        "\n",
        "        def __iter__(self):\n",
        "            for batch in self.dl:\n",
        "                yield to_device(batch, self.device)\n",
        "\n",
        "        def __len__(self):\n",
        "            return len(self.dl)\n",
        "\n",
        "device = get_device()"
      ]
    },
    {
      "cell_type": "markdown",
      "metadata": {
        "id": "usGoqJUL-epF"
      },
      "source": [
        "### Define FederatedNet class"
      ]
    },
    {
      "cell_type": "code",
      "execution_count": null,
      "metadata": {
        "id": "9b_CmIiL-epF",
        "trusted": true
      },
      "outputs": [],
      "source": [
        "class FederatedNet(torch.nn.Module):\n",
        "    def __init__(self):\n",
        "        super().__init__()\n",
        "        self.conv1 = torch.nn.Conv2d(1, 20, 7)\n",
        "        self.conv2 = torch.nn.Conv2d(20, 40, 7)\n",
        "        self.maxpool = torch.nn.MaxPool2d(2, 2)\n",
        "        self.flatten = torch.nn.Flatten()\n",
        "        self.linear = torch.nn.Linear(2560, 10)\n",
        "        self.non_linearity = torch.nn.functional.relu\n",
        "        self.track_layers = {'conv1': self.conv1, 'conv2': self.conv2, 'linear': self.linear}\n",
        "\n",
        "    def forward(self, x_batch):\n",
        "        out = self.conv1(x_batch)\n",
        "        out = self.non_linearity(out)\n",
        "        out = self.conv2(out)\n",
        "        out = self.non_linearity(out)\n",
        "        out = self.maxpool(out)\n",
        "        out = self.flatten(out)\n",
        "        out = self.linear(out)\n",
        "        return out\n",
        "\n",
        "    def get_track_layers(self):\n",
        "        return self.track_layers\n",
        "\n",
        "    def apply_parameters(self, parameters_dict):\n",
        "        with torch.no_grad():\n",
        "            for layer_name in parameters_dict:\n",
        "                self.track_layers[layer_name].weight.data *= 0\n",
        "                self.track_layers[layer_name].bias.data *= 0\n",
        "                self.track_layers[layer_name].weight.data += parameters_dict[layer_name]['weight']\n",
        "                self.track_layers[layer_name].bias.data += parameters_dict[layer_name]['bias']\n",
        "\n",
        "    def get_parameters(self):\n",
        "        parameters_dict = dict()\n",
        "        for layer_name in self.track_layers:\n",
        "            parameters_dict[layer_name] = {\n",
        "                'weight': self.track_layers[layer_name].weight.data,\n",
        "                'bias': self.track_layers[layer_name].bias.data\n",
        "            }\n",
        "        return parameters_dict\n",
        "\n",
        "    def batch_accuracy(self, outputs, labels):\n",
        "        with torch.no_grad():\n",
        "            _, predictions = torch.max(outputs, dim=1)\n",
        "            return torch.tensor(torch.sum(predictions == labels).item() / len(predictions))\n",
        "\n",
        "    def _process_batch(self, batch):\n",
        "        images, labels = batch\n",
        "        outputs = self(images)\n",
        "        loss = torch.nn.functional.cross_entropy(outputs, labels)\n",
        "        accuracy = self.batch_accuracy(outputs, labels)\n",
        "        return (loss, accuracy)\n",
        "\n",
        "    def fit(self, dataset, epochs, lr, batch_size=128, opt=torch.optim.SGD):\n",
        "        dataloader = DeviceDataLoader(DataLoader(dataset, batch_size, shuffle=True), device)\n",
        "        optimizer = opt(self.parameters(), lr)\n",
        "        history = []\n",
        "        for epoch in range(epochs):\n",
        "            losses = []\n",
        "            accs = []\n",
        "            for batch in dataloader:\n",
        "                loss, acc = self._process_batch(batch)\n",
        "                loss.backward()\n",
        "                optimizer.step()\n",
        "                optimizer.zero_grad()\n",
        "                loss.detach()\n",
        "                losses.append(loss)\n",
        "                accs.append(acc)\n",
        "            avg_loss = torch.stack(losses).mean().item()\n",
        "            avg_acc = torch.stack(accs).mean().item()\n",
        "            history.append((avg_loss, avg_acc))\n",
        "        return history\n",
        "\n",
        "    def evaluate(self, dataset, batch_size=128):\n",
        "        dataloader = DeviceDataLoader(DataLoader(dataset, batch_size), device)\n",
        "        losses = []\n",
        "        accs = []\n",
        "        with torch.no_grad():\n",
        "            for batch in dataloader:\n",
        "                loss, acc = self._process_batch(batch)\n",
        "                losses.append(loss)\n",
        "                accs.append(acc)\n",
        "        avg_loss = torch.stack(losses).mean().item()\n",
        "        avg_acc = torch.stack(accs).mean().item()\n",
        "        return (avg_loss, avg_acc)"
      ]
    },
    {
      "cell_type": "markdown",
      "metadata": {
        "id": "RU4mzGlF-epF"
      },
      "source": [
        "### Define Client class"
      ]
    },
    {
      "cell_type": "code",
      "execution_count": null,
      "metadata": {
        "id": "-qA4aQFT-epF",
        "trusted": true
      },
      "outputs": [],
      "source": [
        "class Client:\n",
        "    def __init__(self, client_id, dataset):\n",
        "        self.client_id = client_id\n",
        "        self.dataset = dataset\n",
        "\n",
        "    def get_dataset_size(self):\n",
        "        return len(self.dataset)\n",
        "\n",
        "    def get_client_id(self):\n",
        "        return self.client_id\n",
        "\n",
        "    def train(self, parameters_dict, return_model_dict=False):\n",
        "        net = to_device(FederatedNet(), device)\n",
        "        net.apply_parameters(parameters_dict)\n",
        "        train_history = net.fit(self.dataset, epochs_per_client, learning_rate, batch_size)\n",
        "        print(self.client_id + ':')\n",
        "        for i, res in enumerate(train_history):\n",
        "            print('Epoch [{}]: Loss = {}, Accuracy = {}'.format(i + 1, round(res[0], 4), round(res[1], 4)))\n",
        "        return net.get_parameters(), net.state_dict() if return_model_dict else None"
      ]
    },
    {
      "cell_type": "markdown",
      "metadata": {
        "id": "Tbi5C9mh-epG"
      },
      "source": [
        "### Setup clients"
      ]
    },
    {
      "cell_type": "code",
      "execution_count": null,
      "metadata": {
        "id": "gJa8IZp3-epG",
        "trusted": true
      },
      "outputs": [],
      "source": [
        "examples_per_client = total_train_size // num_clients\n",
        "client_datasets = random_split(train, [min(i + examples_per_client,\n",
        "           total_train_size) - i for i in range(0, total_train_size, examples_per_client)])\n",
        "clients = [Client('client_' + str(i), client_datasets[i]) for i in range(num_clients)]"
      ]
    },
    {
      "cell_type": "code",
      "execution_count": null,
      "metadata": {
        "id": "caXSbPAk-epG"
      },
      "outputs": [],
      "source": [
        "print(clients)"
      ]
    },
    {
      "cell_type": "markdown",
      "metadata": {
        "id": "B9wk_VuC-epG"
      },
      "source": [
        "### Start server"
      ]
    },
    {
      "cell_type": "code",
      "execution_count": null,
      "metadata": {
        "id": "_E7jg4Mh-epG",
        "trusted": true
      },
      "outputs": [],
      "source": [
        "global_net = to_device(FederatedNet(), device)\n",
        "history = []\n",
        "for i in range(rounds):\n",
        "    print('Start Round {} ...'.format(i + 1))\n",
        "    curr_parameters = global_net.get_parameters()\n",
        "    new_parameters = dict([(layer_name, {'weight': 0, 'bias': 0}) for layer_name in curr_parameters])\n",
        "    for client in clients:\n",
        "        client_parameters = client.train(curr_parameters)\n",
        "        fraction = client.get_dataset_size() / total_train_size\n",
        "        for layer_name in client_parameters:\n",
        "            new_parameters[layer_name]['weight'] += fraction * client_parameters[layer_name]['weight']\n",
        "            new_parameters[layer_name]['bias'] += fraction * client_parameters[layer_name]['bias']\n",
        "    global_net.apply_parameters(new_parameters)\n",
        "\n",
        "    train_loss, train_acc = global_net.evaluate(training_data)\n",
        "    dev_loss, dev_acc = global_net.evaluate(dev_dataset)\n",
        "    print('After round {}, train_loss = {}, dev_loss = {}, dev_acc = {}\\n'.format(i + 1, round(train_loss, 4),\n",
        "            round(dev_loss, 4), round(dev_acc, 4)))\n",
        "    history.append((train_loss, dev_loss))"
      ]
    },
    {
      "cell_type": "code",
      "execution_count": null,
      "metadata": {
        "id": "bTc7Sh7a-epG",
        "trusted": true
      },
      "outputs": [],
      "source": [
        "plt.plot([i + 1 for i in range(len(history))], [history[i][0] for i in range(len(history))], color='r', label='train loss')\n",
        "plt.plot([i + 1 for i in range(len(history))], [history[i][1] for i in range(len(history))], color='b', label='dev loss')\n",
        "plt.legend()\n",
        "plt.title('Training history')\n",
        "plt.show()"
      ]
    },
    {
      "cell_type": "code",
      "execution_count": null,
      "metadata": {
        "id": "qCIPRkoZ-epH",
        "trusted": true
      },
      "outputs": [],
      "source": []
    }
  ],
  "metadata": {
    "accelerator": "GPU",
    "colab": {
      "gpuType": "T4",
      "provenance": []
    },
    "kernelspec": {
      "display_name": "Python 3",
      "name": "python3"
    },
    "language_info": {
      "codemirror_mode": {
        "name": "ipython",
        "version": 3
      },
      "file_extension": ".py",
      "mimetype": "text/x-python",
      "name": "python",
      "nbconvert_exporter": "python",
      "pygments_lexer": "ipython3",
      "version": "3.11.4"
    }
  },
  "nbformat": 4,
  "nbformat_minor": 0
}
